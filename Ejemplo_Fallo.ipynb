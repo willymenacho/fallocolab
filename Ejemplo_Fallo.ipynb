{
  "nbformat": 4,
  "nbformat_minor": 0,
  "metadata": {
    "colab": {
      "name": "Ejemplo_Fallo.ipynb",
      "provenance": [],
      "authorship_tag": "ABX9TyO8FxY3OYr+eyiyUHtMiwM6",
      "include_colab_link": true
    },
    "kernelspec": {
      "name": "python3",
      "display_name": "Python 3"
    },
    "language_info": {
      "name": "python"
    }
  },
  "cells": [
    {
      "cell_type": "markdown",
      "metadata": {
        "id": "view-in-github",
        "colab_type": "text"
      },
      "source": [
        "<a href=\"https://colab.research.google.com/github/willymenacho/fallocolab/blob/main/Ejemplo_Fallo.ipynb\" target=\"_parent\"><img src=\"https://colab.research.google.com/assets/colab-badge.svg\" alt=\"Open In Colab\"/></a>"
      ]
    },
    {
      "cell_type": "code",
      "execution_count": 1,
      "metadata": {
        "id": "iL7pejlz9n6d",
        "colab": {
          "base_uri": "https://localhost:8080/"
        },
        "outputId": "f63f76b6-a506-4e67-f241-f55705be0c51"
      },
      "outputs": [
        {
          "output_type": "stream",
          "name": "stdout",
          "text": [
            "mkdir: cannot create directory ‘rep_fallo’: File exists\n",
            "fatal: destination path 'fallocolab' already exists and is not an empty directory.\n"
          ]
        }
      ],
      "source": [
        "import os\n",
        "import sys\n",
        "\n",
        "\n",
        "!rm -rf rep_pyDAMPF/ && mkdir rep_fallo\n",
        "!cd rep_fallo && git clone https://github.com/willymenacho/fallocolab.git"
      ]
    },
    {
      "cell_type": "code",
      "source": [
        "%cd /content/rep_fallo/fallocolab/\n",
        "print('THIS IS THE ONE SCRIPT')\n",
        "\n",
        "%run fallo2.ipynb"
      ],
      "metadata": {
        "id": "vgG3MVPE-GTd",
        "colab": {
          "base_uri": "https://localhost:8080/"
        },
        "outputId": "58708a16-51c3-4075-d349-0fb44972f07b"
      },
      "execution_count": 2,
      "outputs": [
        {
          "output_type": "stream",
          "name": "stdout",
          "text": [
            "/content/rep_fallo/fallocolab\n",
            "THIS IS THE ONE SCRIPT\n",
            "THIS IS THE TWO SCRIPT\n",
            "THIS IS THE THREE SCRIPT\n"
          ]
        }
      ]
    },
    {
      "cell_type": "markdown",
      "source": [
        "WE HAVE 5 SCRIPTS THE FIRST ONE IS THE CURRENT ONE, WHICH WILL OPEN THE SECOND ONE WILL PRINT A MESSAGE THAT HAS THE SCRIPT AND WILL OPEN THE THIRD SCRIPT THAT WILL PERFORM THE SAME ACTION\n",
        "\n",
        "**WE CAN SEE THAT FROM SCRIPT 4 ONWARDS IT NO LONGER SHOWS THE PRINTS OF THE FOLLOWING SCRIPTS, AND THIS HAPPENS IN GENERAL WITH ALL THE OUTPUTS.**\n",
        "\n",
        "\n",
        "\n",
        "> **THIS IS THE REASON WHY OUR GRAPHS ARE NOT SHOWN IN OUR PROGRAM?.**\n",
        "\n"
      ],
      "metadata": {
        "id": "ZBwdih_KB93I"
      }
    }
  ]
}