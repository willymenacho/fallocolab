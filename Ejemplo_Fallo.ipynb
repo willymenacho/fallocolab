{
  "nbformat": 4,
  "nbformat_minor": 0,
  "metadata": {
    "colab": {
      "name": "Ejemplo_Fallo.ipynb",
      "provenance": [],
      "mount_file_id": "1OezTEFMQUOwV1epIAKtOwTdF4jEVbq8q",
      "authorship_tag": "ABX9TyM2D2llg+1mNNl/U9BY+Kc3",
      "include_colab_link": true
    },
    "kernelspec": {
      "name": "python3",
      "display_name": "Python 3"
    },
    "language_info": {
      "name": "python"
    }
  },
  "cells": [
    {
      "cell_type": "markdown",
      "metadata": {
        "id": "view-in-github",
        "colab_type": "text"
      },
      "source": [
        "<a href=\"https://colab.research.google.com/github/willymenacho/fallocolab/blob/main/Ejemplo_Fallo.ipynb\" target=\"_parent\"><img src=\"https://colab.research.google.com/assets/colab-badge.svg\" alt=\"Open In Colab\"/></a>"
      ]
    },
    {
      "cell_type": "code",
      "execution_count": 1,
      "metadata": {
        "id": "iL7pejlz9n6d"
      },
      "outputs": [],
      "source": [
        "import os\n",
        "import sys\n",
        "%%capture\n",
        "!rm -rf rep_pyDAMPF/ && mkdir rep_pyDAMPF\n",
        "!cd rep_pyDAMPF && git clone https://github.com/willymenacho/fallocolab.git"
      ]
    },
    {
      "cell_type": "code",
      "source": [
        "print('THIS IS THE ONE SCRIPT')"
      ],
      "metadata": {
        "id": "ACB6P2iD97D2"
      },
      "execution_count": null,
      "outputs": []
    },
    {
      "cell_type": "code",
      "source": [
        "%run fallo2.ipynb"
      ],
      "metadata": {
        "id": "vgG3MVPE-GTd"
      },
      "execution_count": null,
      "outputs": []
    }
  ]
}