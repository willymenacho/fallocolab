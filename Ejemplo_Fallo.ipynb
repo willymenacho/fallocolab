{
  "nbformat": 4,
  "nbformat_minor": 0,
  "metadata": {
    "colab": {
      "name": "Ejemplo_Fallo.ipynb",
      "provenance": [],
      "authorship_tag": "ABX9TyMXFKlabg/5T+4e9VLXiXF2",
      "include_colab_link": true
    },
    "kernelspec": {
      "name": "python3",
      "display_name": "Python 3"
    },
    "language_info": {
      "name": "python"
    }
  },
  "cells": [
    {
      "cell_type": "markdown",
      "metadata": {
        "id": "view-in-github",
        "colab_type": "text"
      },
      "source": [
        "<a href=\"https://colab.research.google.com/github/willymenacho/fallocolab/blob/main/Ejemplo_Fallo.ipynb\" target=\"_parent\"><img src=\"https://colab.research.google.com/assets/colab-badge.svg\" alt=\"Open In Colab\"/></a>"
      ]
    },
    {
      "cell_type": "code",
      "execution_count": 1,
      "metadata": {
        "id": "iL7pejlz9n6d",
        "colab": {
          "base_uri": "https://localhost:8080/"
        },
        "outputId": "f20ffbab-f8d4-4912-8013-ca581f40ace5"
      },
      "outputs": [
        {
          "output_type": "stream",
          "name": "stdout",
          "text": [
            "Cloning into 'fallocolab'...\n",
            "remote: Enumerating objects: 21, done.\u001b[K\n",
            "remote: Counting objects: 100% (21/21), done.\u001b[K\n",
            "remote: Compressing objects: 100% (19/19), done.\u001b[K\n",
            "remote: Total 21 (delta 13), reused 0 (delta 0), pack-reused 0\u001b[K\n",
            "Unpacking objects: 100% (21/21), done.\n"
          ]
        }
      ],
      "source": [
        "import os\n",
        "import sys\n",
        "\n",
        "\n",
        "!rm -rf rep_pyDAMPF/ && mkdir rep_fallo\n",
        "!cd rep_fallo && git clone https://github.com/willymenacho/fallocolab.git"
      ]
    },
    {
      "cell_type": "code",
      "source": [
        "print('THIS IS THE ONE SCRIPT')\n",
        "%cd /content/rep_fallo/fallocolab/\n",
        "%run fallo2.ipynb"
      ],
      "metadata": {
        "id": "vgG3MVPE-GTd",
        "colab": {
          "base_uri": "https://localhost:8080/"
        },
        "outputId": "d9ce000f-dfae-4d75-8d71-37b5d0130af1"
      },
      "execution_count": 2,
      "outputs": [
        {
          "output_type": "stream",
          "name": "stdout",
          "text": [
            "/content/rep_fallo/fallocolab\n",
            "THIS IS THE TWO SCRIPT\n",
            "THIS IS THE THREE SCRIPT\n"
          ]
        }
      ]
    },
    {
      "cell_type": "markdown",
      "source": [
        "WE HAVE 4 SCRIPTS, "
      ],
      "metadata": {
        "id": "ZBwdih_KB93I"
      }
    }
  ]
}