{
  "nbformat": 4,
  "nbformat_minor": 0,
  "metadata": {
    "colab": {
      "name": "fallo2.ipynb",
      "provenance": [],
      "mount_file_id": "1OezTEFMQUOwV1epIAKtOwTdF4jEVbq8q",
      "authorship_tag": "ABX9TyN+IZ55QLkT92epmdEmeo5h",
      "include_colab_link": true
    },
    "kernelspec": {
      "name": "python3",
      "display_name": "Python 3"
    },
    "language_info": {
      "name": "python"
    }
  },
  "cells": [
    {
      "cell_type": "markdown",
      "metadata": {
        "id": "view-in-github",
        "colab_type": "text"
      },
      "source": [
        "<a href=\"https://colab.research.google.com/github/willymenacho/fallocolab/blob/main/fallo2.ipynb\" target=\"_parent\"><img src=\"https://colab.research.google.com/assets/colab-badge.svg\" alt=\"Open In Colab\"/></a>"
      ]
    },
    {
      "cell_type": "code",
      "source": [
        "import os\n",
        "import sys\n",
        "print('THIS IS THE TWO SCRIPT')"
      ],
      "metadata": {
        "id": "ACB6P2iD97D2"
      },
      "execution_count": null,
      "outputs": []
    },
    {
      "cell_type": "code",
      "source": [
        "%run fallo3.ipynb"
      ],
      "metadata": {
        "id": "vgG3MVPE-GTd"
      },
      "execution_count": null,
      "outputs": []
    }
  ]
}